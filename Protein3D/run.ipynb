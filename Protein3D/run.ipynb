{
 "metadata": {
  "language_info": {
   "codemirror_mode": {
    "name": "ipython",
    "version": 3
   },
   "file_extension": ".py",
   "mimetype": "text/x-python",
   "name": "python",
   "nbconvert_exporter": "python",
   "pygments_lexer": "ipython3",
   "version": "3.8"
  },
  "orig_nbformat": 2,
  "kernelspec": {
   "name": "python380jvsc74a57bd05e5f1a626d431ef01ca19c94477fdd88cafa6ef2cd862b4e2ec5d88429b068a1",
   "display_name": "Python 3.8  ('se3': conda)"
  },
  "metadata": {
   "interpreter": {
    "hash": "5e5f1a626d431ef01ca19c94477fdd88cafa6ef2cd862b4e2ec5d88429b068a1"
   }
  }
 },
 "nbformat": 4,
 "nbformat_minor": 2,
 "cells": [
  {
   "cell_type": "code",
   "execution_count": 1,
   "metadata": {},
   "outputs": [
    {
     "output_type": "stream",
     "name": "stderr",
     "text": [
      "Using backend: pytorch\n"
     ]
    }
   ],
   "source": [
    "from QM9 import QM9Dataset"
   ]
  },
  {
   "cell_type": "code",
   "execution_count": 1,
   "metadata": {},
   "outputs": [],
   "source": [
    "import torch\n",
    "import os\n",
    "os.chdir('/home/flower/github/Protein3D/Protein3D')"
   ]
  },
  {
   "cell_type": "code",
   "execution_count": 2,
   "metadata": {},
   "outputs": [],
   "source": [
    "res2idx, res2c = torch.load(\"res2idx_dict.pt\"), torch.load(\"res2count_dict.pt\")"
   ]
  },
  {
   "cell_type": "code",
   "execution_count": 4,
   "metadata": {},
   "outputs": [
    {
     "output_type": "execute_result",
     "data": {
      "text/plain": [
       "OrderedDict([('GLY', 0),\n",
       "             ('PRO', 1),\n",
       "             ('LEU', 2),\n",
       "             ('SER', 3),\n",
       "             ('MET', 4),\n",
       "             ('LYS', 5),\n",
       "             ('ASP', 6),\n",
       "             ('ILE', 7),\n",
       "             ('ASN', 8),\n",
       "             ('TYR', 9),\n",
       "             ('VAL', 10),\n",
       "             ('GLU', 11),\n",
       "             ('ARG', 12),\n",
       "             ('THR', 13),\n",
       "             ('GLN', 14),\n",
       "             ('PHE', 15),\n",
       "             ('CYS', 16),\n",
       "             ('ALA', 17),\n",
       "             ('HIS', 18),\n",
       "             ('TRP', 19)])"
      ]
     },
     "metadata": {},
     "execution_count": 4
    }
   ],
   "source": [
    "from collections import OrderedDict\n",
    "\n",
    "tmp = OrderedDict()\n",
    "for k, v in res2idx.items():\n",
    "    tmp[k] = v\n",
    "    if len(tmp) == 20:\n",
    "        break\n",
    "\n",
    "tmp"
   ]
  },
  {
   "cell_type": "code",
   "execution_count": 5,
   "metadata": {},
   "outputs": [],
   "source": [
    "torch.save(tmp, 'res2idx_dict_core.pt')"
   ]
  },
  {
   "cell_type": "code",
   "execution_count": null,
   "metadata": {},
   "outputs": [],
   "source": []
  }
 ]
}